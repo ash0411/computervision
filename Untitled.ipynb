{
 "cells": [
  {
   "cell_type": "markdown",
   "metadata": {},
   "source": [
    "# Basics of Opencv\n",
    "## converting to gray image\n",
    "In this code snippet we are using cvtcolor function to convert the bgr image to a gray image. It can be either done by using cvtcolor or while importing it. <br>\n",
    "## hsv color\n",
    "Similiar to before we are converting the bgr image to a hsv image.\n",
    "## Splitting an image\n",
    "In this we are splitting an image to its red, green and blue counterparts and then merging them to the orignal image.\n",
    "## region manipulation\n",
    "Here we are manipulating the regions of the image/ changing the pixels of the image.\n",
    "## drawing \n",
    "here we first making the canvas and then drawing line, rectangle and circle using opencv functions. After that we are \n"
   ]
  },
  {
   "cell_type": "code",
   "execution_count": null,
   "metadata": {},
   "outputs": [],
   "source": []
  }
 ],
 "metadata": {
  "kernelspec": {
   "display_name": "Python 3",
   "language": "python",
   "name": "python3"
  },
  "language_info": {
   "codemirror_mode": {
    "name": "ipython",
    "version": 3
   },
   "file_extension": ".py",
   "mimetype": "text/x-python",
   "name": "python",
   "nbconvert_exporter": "python",
   "pygments_lexer": "ipython3",
   "version": "3.6.9"
  }
 },
 "nbformat": 4,
 "nbformat_minor": 2
}
